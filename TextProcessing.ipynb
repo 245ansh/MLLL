{
  "nbformat": 4,
  "nbformat_minor": 0,
  "metadata": {
    "colab": {
      "provenance": [],
      "authorship_tag": "ABX9TyMc7M/UoNJ0mTbZWlQn7/8e",
      "include_colab_link": true
    },
    "kernelspec": {
      "name": "python3",
      "display_name": "Python 3"
    },
    "language_info": {
      "name": "python"
    }
  },
  "cells": [
    {
      "cell_type": "markdown",
      "metadata": {
        "id": "view-in-github",
        "colab_type": "text"
      },
      "source": [
        "<a href=\"https://colab.research.google.com/github/245ansh/MLLL/blob/main/TextProcessing.ipynb\" target=\"_parent\"><img src=\"https://colab.research.google.com/assets/colab-badge.svg\" alt=\"Open In Colab\"/></a>"
      ]
    },
    {
      "cell_type": "markdown",
      "source": [
        "bag of words\n"
      ],
      "metadata": {
        "id": "FWw1DIj-a4-7"
      }
    },
    {
      "cell_type": "code",
      "execution_count": null,
      "metadata": {
        "id": "P7pCkdc-G7N8",
        "colab": {
          "base_uri": "https://localhost:8080/"
        },
        "outputId": "0c31306d-36c2-40ad-bddf-7282d1a0ce6f"
      },
      "outputs": [
        {
          "output_type": "stream",
          "name": "stdout",
          "text": [
            "Requirement already satisfied: numpy in /usr/local/lib/python3.10/dist-packages (1.26.4)\n"
          ]
        }
      ],
      "source": [
        "!pip install numpy"
      ]
    },
    {
      "cell_type": "code",
      "source": [
        "from sklearn.feature_extraction.text import CountVectorizer\n",
        "import numpy as np"
      ],
      "metadata": {
        "id": "yTYjPsHa5DRf"
      },
      "execution_count": 1,
      "outputs": []
    },
    {
      "cell_type": "code",
      "source": [
        "bow= CountVectorizer()\n",
        "bow.fit(['Hello everybody, this movie is not scary'])\n",
        "bow.vocabulary_"
      ],
      "metadata": {
        "colab": {
          "base_uri": "https://localhost:8080/"
        },
        "id": "s8w-6L0CXoRp",
        "outputId": "7d008cad-69ce-4ab7-889f-f529109fb286"
      },
      "execution_count": 3,
      "outputs": [
        {
          "output_type": "execute_result",
          "data": {
            "text/plain": [
              "{'hello': 1,\n",
              " 'everybody': 0,\n",
              " 'this': 6,\n",
              " 'movie': 3,\n",
              " 'is': 2,\n",
              " 'not': 4,\n",
              " 'scary': 5}"
            ]
          },
          "metadata": {},
          "execution_count": 3
        }
      ]
    },
    {
      "cell_type": "code",
      "source": [
        "bow.transform(['']).toarray()"
      ],
      "metadata": {
        "colab": {
          "base_uri": "https://localhost:8080/"
        },
        "id": "Mjz2xzZrYIn3",
        "outputId": "13d3f933-0713-4c11-8f12-281d54a52023"
      },
      "execution_count": 4,
      "outputs": [
        {
          "output_type": "execute_result",
          "data": {
            "text/plain": [
              "array([[0, 0, 0, 0, 0, 0, 0]])"
            ]
          },
          "metadata": {},
          "execution_count": 4
        }
      ]
    },
    {
      "cell_type": "code",
      "source": [
        "bow.transform(['everybody scary']).toarray()"
      ],
      "metadata": {
        "colab": {
          "base_uri": "https://localhost:8080/"
        },
        "id": "uAToTrQ5YWgo",
        "outputId": "582d16fd-c7d7-4633-892d-9d00b195f0d5"
      },
      "execution_count": 5,
      "outputs": [
        {
          "output_type": "execute_result",
          "data": {
            "text/plain": [
              "array([[1, 0, 0, 0, 0, 1, 0]])"
            ]
          },
          "metadata": {},
          "execution_count": 5
        }
      ]
    },
    {
      "cell_type": "code",
      "source": [
        "bow.fit_transform(['hello everyone', 'everyone good','good day']).toarray()"
      ],
      "metadata": {
        "colab": {
          "base_uri": "https://localhost:8080/"
        },
        "id": "wk3_a2bwYlLo",
        "outputId": "78d91294-284e-43a0-face-1b93f580b695"
      },
      "execution_count": 6,
      "outputs": [
        {
          "output_type": "execute_result",
          "data": {
            "text/plain": [
              "array([[0, 1, 0, 1],\n",
              "       [0, 1, 1, 0],\n",
              "       [1, 0, 1, 0]])"
            ]
          },
          "metadata": {},
          "execution_count": 6
        }
      ]
    },
    {
      "cell_type": "markdown",
      "source": [
        "term frequency and inverse document frequency(tf and idf)\n"
      ],
      "metadata": {
        "id": "PCQhgi5Ha3-V"
      }
    },
    {
      "cell_type": "code",
      "source": [
        "from sklearn.feature_extraction.text import TfidfVectorizer\n",
        "tfidf= TfidfVectorizer()\n",
        "tfidf.fit(['hello everybody', 'everyone good','good day'])\n",
        "tfidf.vocabulary_"
      ],
      "metadata": {
        "colab": {
          "base_uri": "https://localhost:8080/"
        },
        "id": "FQuT827XbG1-",
        "outputId": "94f51d45-11d3-49f2-a061-77aed737436d"
      },
      "execution_count": 8,
      "outputs": [
        {
          "output_type": "execute_result",
          "data": {
            "text/plain": [
              "{'hello': 4, 'everybody': 1, 'everyone': 2, 'good': 3, 'day': 0}"
            ]
          },
          "metadata": {},
          "execution_count": 8
        }
      ]
    },
    {
      "cell_type": "code",
      "source": [
        "tfidf.transform(['hello good']).toarray()"
      ],
      "metadata": {
        "colab": {
          "base_uri": "https://localhost:8080/"
        },
        "id": "f7ZF7zDYb1Fn",
        "outputId": "802d233b-d8f4-433e-9601-8687b072e4dd"
      },
      "execution_count": 9,
      "outputs": [
        {
          "output_type": "execute_result",
          "data": {
            "text/plain": [
              "array([[0.        , 0.        , 0.        , 0.60534851, 0.79596054]])"
            ]
          },
          "metadata": {},
          "execution_count": 9
        }
      ]
    },
    {
      "cell_type": "code",
      "source": [
        "for t in tfidf.get_feature_names_out():\n",
        "  temp=tfidf.vocabulary_[t]\n",
        "  print(t, \" : \",tfidf.idf_[temp])"
      ],
      "metadata": {
        "colab": {
          "base_uri": "https://localhost:8080/"
        },
        "id": "TUYz2-n8cpYx",
        "outputId": "81f409de-a428-49f0-b953-b618fb404b48"
      },
      "execution_count": 11,
      "outputs": [
        {
          "output_type": "stream",
          "name": "stdout",
          "text": [
            "day  :  1.6931471805599454\n",
            "everybody  :  1.6931471805599454\n",
            "everyone  :  1.6931471805599454\n",
            "good  :  1.2876820724517808\n",
            "hello  :  1.6931471805599454\n"
          ]
        }
      ]
    },
    {
      "cell_type": "markdown",
      "source": [
        "Ngrams"
      ],
      "metadata": {
        "id": "Dqa6q7t2fTfT"
      }
    },
    {
      "cell_type": "code",
      "source": [
        "from sklearn.feature_extraction.text import CountVectorizer\n",
        "bow= CountVectorizer(ngram_range=(2,2))\n",
        "bow.fit(['hello everybody', 'everyone good','good day'])\n",
        "bow.vocabulary_"
      ],
      "metadata": {
        "colab": {
          "base_uri": "https://localhost:8080/"
        },
        "id": "FYMoxTKIfX6X",
        "outputId": "21951fe3-ab48-4a14-dcd1-4a696fe9b489"
      },
      "execution_count": 18,
      "outputs": [
        {
          "output_type": "execute_result",
          "data": {
            "text/plain": [
              "{'hello everybody': 2, 'everyone good': 0, 'good day': 1}"
            ]
          },
          "metadata": {},
          "execution_count": 18
        }
      ]
    },
    {
      "cell_type": "code",
      "source": [
        "from sklearn.feature_extraction.text import CountVectorizer\n",
        "bow= CountVectorizer(ngram_range=(1,3))\n",
        "bow.fit(['hello everybody', 'everyone good','good day'])\n",
        "bow.vocabulary_"
      ],
      "metadata": {
        "colab": {
          "base_uri": "https://localhost:8080/"
        },
        "id": "lbaICg37jEfg",
        "outputId": "09403ab9-e0df-4583-a6c9-e2fa5505d15d"
      },
      "execution_count": 20,
      "outputs": [
        {
          "output_type": "execute_result",
          "data": {
            "text/plain": [
              "{'hello': 6,\n",
              " 'everybody': 1,\n",
              " 'hello everybody': 7,\n",
              " 'everyone': 2,\n",
              " 'good': 4,\n",
              " 'everyone good': 3,\n",
              " 'day': 0,\n",
              " 'good day': 5}"
            ]
          },
          "metadata": {},
          "execution_count": 20
        }
      ]
    },
    {
      "cell_type": "code",
      "source": [
        "from sklearn.feature_extraction.text import CountVectorizer\n",
        "bow= CountVectorizer(ngram_range=(2,3))\n",
        "bow.fit(['hello everybody', 'everyone good','good day'])\n",
        "bow.vocabulary_"
      ],
      "metadata": {
        "colab": {
          "base_uri": "https://localhost:8080/"
        },
        "id": "mLJXMPV4jHs3",
        "outputId": "6cfc3e93-f535-407a-fb35-154905f8a3e6"
      },
      "execution_count": 16,
      "outputs": [
        {
          "output_type": "execute_result",
          "data": {
            "text/plain": [
              "{'hello everybody': 2, 'everyone good': 0, 'good day': 1}"
            ]
          },
          "metadata": {},
          "execution_count": 16
        }
      ]
    },
    {
      "cell_type": "code",
      "source": [
        "bow.transform(['hello good']).toarray()"
      ],
      "metadata": {
        "colab": {
          "base_uri": "https://localhost:8080/"
        },
        "id": "NkMVs2VWjVAI",
        "outputId": "193c96b1-c07b-4d98-e259-c4ab44fd0f3c"
      },
      "execution_count": 21,
      "outputs": [
        {
          "output_type": "execute_result",
          "data": {
            "text/plain": [
              "array([[0, 0, 0, 0, 1, 0, 1, 0]])"
            ]
          },
          "metadata": {},
          "execution_count": 21
        }
      ]
    }
  ]
}